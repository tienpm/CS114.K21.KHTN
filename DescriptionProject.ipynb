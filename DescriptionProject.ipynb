{
  "nbformat": 4,
  "nbformat_minor": 0,
  "metadata": {
    "colab": {
      "name": "DescriptionProject.ipynb",
      "provenance": [],
      "collapsed_sections": []
    },
    "kernelspec": {
      "name": "python3",
      "display_name": "Python 3"
    }
  },
  "cells": [
    {
      "cell_type": "markdown",
      "metadata": {
        "id": "j-t6Lkwhzc6A",
        "colab_type": "text"
      },
      "source": [
        "1.Mô tả bài toán:\n",
        "\n",
        "Input: Tập dữ liệu ảnh về các loài hoa ngoài tự nhiên\n",
        "\n",
        "Output: Ảnh một bông hoa bất kì và cho biết hoa khớp với loài hoa nào trong dataset, hoặc không khớp với bất kì loài hoa nào cả\n",
        "\n",
        "2.Mô tả về bộ dữ liệu\n",
        "- Cách thức xây dựng bộ giữ liệu: Chụp ảnh hoa xung quanh UIT, KTX, làng đại học, kết hợp với việc lấy ảnh trong các bộ dataset về hoa trên internet\n",
        "- Số lượng: 1000 ảnh, bao gồm khoảng 10 loài hoa, mỗi loài khoảng 100 ảnh\n",
        "- Các thao tác tiền xử lý dữ liệu: Texture Haralick, Color Histogram (Color), Hu moments (Shape)\n",
        "- Phân chia train/test = 0.7/0.3\n",
        "3.Mô tả về đặc trưng\n",
        "\n",
        "Mỗi ảnh được tiền xử lý và mô tả thành một vector đặc trưng chứa màu, hình dạng, cấu trúc vân của cánh hoa từ thao tác tiền xử lí\n",
        "\n",
        "4.Mô tả thuật toán máy học:\n",
        "\n",
        "Sử dụng các thuật toán máy học đã được học (K-Means clustering, Linear SVM, ...), Thử một số mạng CNN như (VGG16, VGG19, Mobilenet, ...)\n",
        "\n",
        "5.Cài đặt, tinh chỉnh tham số\n",
        "\n",
        "6.Đánh giá, kết qủa, kết luận"
      ]
    }
  ]
}