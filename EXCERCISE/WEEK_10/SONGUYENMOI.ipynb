{
  "nbformat": 4,
  "nbformat_minor": 0,
  "metadata": {
    "colab": {
      "name": "SONGUYENMOI.ipynb",
      "provenance": [],
      "collapsed_sections": [
        "pGqnl3eMlXiy",
        "DHEyVW9BlXi9"
      ],
      "include_colab_link": true
    },
    "kernelspec": {
      "display_name": "Python 3",
      "language": "python",
      "name": "python3"
    },
    "language_info": {
      "codemirror_mode": {
        "name": "ipython",
        "version": 3
      },
      "file_extension": ".py",
      "mimetype": "text/x-python",
      "name": "python",
      "nbconvert_exporter": "python",
      "pygments_lexer": "ipython3",
      "version": "3.7.7"
    }
  },
  "cells": [
    {
      "cell_type": "markdown",
      "metadata": {
        "id": "view-in-github",
        "colab_type": "text"
      },
      "source": [
        "<a href=\"https://colab.research.google.com/github/tienpm/CS114.K21.KHTN/blob/master/EXERCISE/WEEK_10/SONGUYENMOI.ipynb\" target=\"_parent\"><img src=\"https://colab.research.google.com/assets/colab-badge.svg\" alt=\"Open In Colab\"/></a>"
      ]
    },
    {
      "cell_type": "markdown",
      "metadata": {
        "id": "Uq5n_LmrwDSx"
      },
      "source": [
        "<img src=\"https://www.uit.edu.vn/sites/vi/files/banner.png\" alt=\"UIT logo\" class=\"left\">\n",
        "<h1 align= \"center\">   <strong>     CS112.PHÂN TÍCH VÀ THIẾT KẾ THUẬT TOÁN</strong> </h1>\n",
        "\n",
        "\n"
      ]
    },
    {
      "cell_type": "markdown",
      "metadata": {
        "id": "U_Pca_MGyrHm"
      },
      "source": [
        "# **CS112.L11.KHTN**\n",
        "## **NHÓM 5**\n",
        "\n",
        "|  STT | HỌ TÊN             | MSSV     | VAI TRÒ     | LIÊN HỆ |\n",
        "|---|--------------------|-----------------|----------------|---------|\n",
        "|**1** | **VŨ QUÍ SAN**         | **18520143** | **NHÓM TRƯỞNG** |[**GitHub**](https://github.com/santheipman) **và** **Gmail**: 18520143@gm.uit.edu.vn          |\n",
        "| **2** | **PHẠM MẠNH TIẾN**     | **18520166**| **THÀNH VIÊN**  | [**GitHub**](https://github.com/tienpm) **và** **Gmail**: 18520166@gm.uit.edu.vn        |\n",
        "| **3** |**NGUYỄN VƯƠNG THỊNH** | **18520367** | **THÀNH VIÊN**  |  [**GitHub**](https://github.com/ThinhNguyen209) **và** **Gmail**: 18520367@gm.uit.edu.vn      |"
      ]
    },
    {
      "cell_type": "markdown",
      "metadata": {
        "id": "pGqnl3eMlXiy"
      },
      "source": [
        "## **ĐỀ BÀI**\n",
        "\n",
        "### **SỐ NGUYÊN MỚI**\n",
        "\n",
        "<p style=\"text-align:justify\">Cho số nguy&ecirc;n dương <strong><em>n</em></strong> c&oacute; kh&ocirc;ng qu&aacute; 100 chữ số. H&atilde;y x&aacute;c định số nguy&ecirc;n lớn nhất <strong><em>m</em></strong> chia hết cho 3 v&agrave; kh&aacute;c <strong><em>n</em></strong> ở đ&uacute;ng một chữ số.</p>\n",
        "\n",
        "<p style=\"text-align:justify\">V&iacute; dụ, <strong><em>n</em></strong> = 123 th&igrave; <strong><em>m</em></strong> sẽ l&agrave; 723.</p>\n",
        "\n",
        "<p style=\"text-align:justify\"><strong><em>Dữ liệu:</em></strong> V&agrave;o từ thiết bị nhập chuẩn gồm một d&ograve;ng chứa số nguy&ecirc;n <strong><em>n</em></strong> c&oacute; kh&ocirc;ng qu&aacute; 100 chữ số v&agrave; kh&ocirc;ng chứa c&aacute;c số 0 kh&ocirc;ng c&oacute; nghĩa.</p>\n",
        "\n",
        "<p style=\"text-align:justify\"><strong><em>Kết quả:</em></strong> Đưa ra thiết bị xuất chuẩn số nguy&ecirc;n <strong><em>m</em></strong> t&igrave;m được.</p>\n",
        "\n",
        "<p><strong><em>V&iacute; dụ:</em></strong></p>\n",
        "\n",
        "<table border=\"1\" cellspacing=\"0\">\n",
        "\t<tbody>\n",
        "\t\t<tr>\n",
        "\t\t\t<td style=\"background-color:#e2efd9; border-color:black; width:91.15pt\">\n",
        "\t\t\t<p style=\"text-align:center\"><tt>INPUT</tt></p>\n",
        "\t\t\t</td>\n",
        "\t\t\t<td style=\"width:58.5pt\">\n",
        "\t\t\t<p style=\"text-align:center\">&nbsp;</p>\n",
        "\t\t\t</td>\n",
        "\t\t\t<td style=\"background-color:#e2efd9; border-color:black; width:79.85pt\">\n",
        "\t\t\t<p style=\"text-align:center\"><tt>OUTPUT</tt></p>\n",
        "\t\t\t</td>\n",
        "\t\t</tr>\n",
        "\t\t<tr>\n",
        "\t\t\t<td style=\"background-color:#e2efd9; border-color:black; height:26.05pt; width:91.15pt\">\n",
        "\t\t\t<p><tt><strong>123</strong></tt></p>\n",
        "\t\t\t</td>\n",
        "\t\t\t<td style=\"height:26.05pt; width:58.5pt\">\n",
        "\t\t\t<p>&nbsp;</p>\n",
        "\t\t\t</td>\n",
        "\t\t\t<td style=\"background-color:#e2efd9; height:26.05pt; width:79.85pt\">\n",
        "\t\t\t<p><tt><strong>723</strong></tt></p>\n",
        "\t\t\t</td>\n",
        "\t\t</tr>\n",
        "\t</tbody>\n",
        "</table>"
      ]
    },
    {
      "cell_type": "markdown",
      "metadata": {
        "id": "RM6YkI9nAXvO"
      },
      "source": [
        "## **1. Tóm tắt bài toán**"
      ]
    },
    {
      "cell_type": "markdown",
      "metadata": {
        "id": "DZ_ZHpmNlXi2"
      },
      "source": [
        "Cho số nguyên **n** có số chữ số nhỏ hơn 100. Xác định số nguyên lớn nhất chia hết cho 3 và khác **n** đúng 1 chữ số"
      ]
    },
    {
      "cell_type": "markdown",
      "metadata": {
        "id": "KMl_1yZt-t46"
      },
      "source": [
        "## **2. Nhận dạng mẫu (Pattern-Recognition)**"
      ]
    },
    {
      "cell_type": "markdown",
      "metadata": {
        "id": "MvKc6MnglXi5"
      },
      "source": [
        "- Nhận thấy để nhận được số lớn nhất chia hết cho 3 và khác **n** đúng 1 chữ số, ta có thể thay các chữ số lần lượt từ trái sang phải, nhằm đảm bảo chữ số tìm được luôn là lớn nhất. Nếu ko tìm được chữ số nào, chứng tỏ số cần tìm nhỏ hơn n, khi đó ta chỉ cần giảm **n** đi 1, 2, 3 đơn vị (phần dư của 1 số khi chia cho 3)\n",
        "\n",
        "- Giải thuật: Brute Force + Number Theory"
      ]
    },
    {
      "cell_type": "markdown",
      "metadata": {
        "id": "DHEyVW9BlXi9"
      },
      "source": [
        "## **3. Thuật toán**\n",
        "\n",
        "### **3.1. Ý tưởng**\n",
        "\n",
        "- Tính tổng $sumDigit$ là tổng các chữ số của $n$\n",
        "- Lặp lần lượt qua các chứ số $x$ của n theo thứ tự thừ trái sang phải $\\overline{x_0x_1..x_n} = n$\n",
        "- Với mỗi $x$, lặp $y$ từ 9 tới $x+1$\n",
        "  \n",
        "  > Nếu $(sumDigit - x + y) \\mod  3 = 0$ thay thế $y = x$ và xuất ra kết quả\n",
        "\n",
        "  > Nếu không tim được y thỏa mãn chứng tỏ số cần tìm nhỏ hơn $n$ nên chỉ cần trừ 1 số đơn các đơn vị của phép lấy dư cho 3 để số mới có thể chia hết cho 3.\n",
        "\n",
        "    Chứng minh: gọi $q$ và $r$ lần lượt là thương và số dư của phép lấy dư n cho 3\n",
        "    $ n = 3 * q + r $\n",
        "\n",
        "    - $r \\neq 0 \\rightarrow ans = n - r = 3 * q$\n",
        "\n",
        "      $ \\Rightarrow ans \\mod 3 = 0 (đpcm) $\n",
        "    - $r = 0 \\rightarrow ans = n + 3 = 3 * q + 3$\n",
        "\n",
        "      $ \\Rightarrow ans \\mod 3 = 0 (đpcm) $\n",
        "\n",
        "\n",
        "\n",
        "\n",
        "### **3.2. Mã giả thuật toán**\n",
        "\n",
        "```pseudocode\n",
        "\n",
        "Initialize n\n",
        "\n",
        "digits = extract n to array digit of n\n",
        "\n",
        "sum_digit = 0\n",
        "for i = 0 to len(digits) - 1 do\n",
        "  sum_digit <- sum_digit + digits[i]\n",
        "\n",
        "max_num <- digits\n",
        "stop <- False\n",
        "for i = len(digits) - 1 down to 0 do\n",
        "  psum_digit <- sum_digit - digits[i]\n",
        "  for j = 9 down to digits[i] + 1 do\n",
        "    if (psum_digit + j) mod 3 == 0 then \n",
        "      max_num[i] <- digits[j]\n",
        "      stop <- True\n",
        "      break\n",
        "  \n",
        "  if stop == True then\n",
        "    ans = max_num\n",
        "    break\n",
        "\n",
        "if max_num == digits then\n",
        "  if n mod 3 == 0 then\n",
        "    ans = n - 3\n",
        "  else\n",
        "    ans = n - sum_digit mod 3\n",
        "\n",
        "Return ans\n",
        "```"
      ]
    },
    {
      "cell_type": "markdown",
      "metadata": {
        "id": "2QLVpwgwLB6z"
      },
      "source": [
        "## **4. Cài đặt**"
      ]
    },
    {
      "cell_type": "code",
      "metadata": {
        "id": "QXuzuI9clXjA",
        "colab": {
          "base_uri": "https://localhost:8080/"
        },
        "outputId": "4fc97e0a-4e22-479b-f16f-1498a3c63e44"
      },
      "source": [
        "def main():\n",
        "  x = input()\n",
        "  digits = list(x)\n",
        "  ans = digits.copy()\n",
        "  sum_digit = sum([int(digit) - int('0')  for digit in digits])\n",
        "  flag = False\n",
        "  for i in range(len(digits)):\n",
        "    psum_digit = sum_digit - (int(digits[i]) - int('0'))\n",
        "    end_stage = int(digits[i]) - int('0')\n",
        "    for j in range(9, end_stage, -1):\n",
        "      if (j + psum_digit) % 3 == 0:\n",
        "        ans[i] = str(j)\n",
        "        flag = True\n",
        "        break\n",
        "    \n",
        "    if flag:\n",
        "      break\n",
        "\n",
        "  if ans == digits:\n",
        "    num = int(x)\n",
        "    if num % 3 == 0:\n",
        "      num -= 3\n",
        "    else:\n",
        "      num -= num % 3\n",
        "    print(num)\n",
        "  else:\n",
        "    print(''.join(ans))\n",
        "    \n",
        "if __name__ == \"__main__\":\n",
        "  main()"
      ],
      "execution_count": null,
      "outputs": [
        {
          "output_type": "stream",
          "text": [
            "7\n",
            "11\n"
          ],
          "name": "stdout"
        }
      ]
    },
    {
      "cell_type": "markdown",
      "metadata": {
        "id": "MDpEYQJOLB7F"
      },
      "source": [
        "## **5. Kết quả trên Wecode**"
      ]
    },
    {
      "cell_type": "markdown",
      "metadata": {
        "id": "q8ElylpcLB7I"
      },
      "source": [
        "![image.png](data:image/png;base64,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)"
      ]
    }
  ]
}
