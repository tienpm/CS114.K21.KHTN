{
  "nbformat": 4,
  "nbformat_minor": 0,
  "metadata": {
    "colab": {
      "name": "Lab_05.ipynb",
      "provenance": []
    },
    "kernelspec": {
      "name": "python3",
      "display_name": "Python 3"
    }
  },
  "cells": [
    {
      "cell_type": "code",
      "metadata": {
        "id": "fZS16WxcfRsG",
        "colab_type": "code",
        "colab": {}
      },
      "source": [
        "from google.colab import files\n",
        "files.upload()"
      ],
      "execution_count": 0,
      "outputs": []
    },
    {
      "cell_type": "code",
      "metadata": {
        "id": "5YgBEgsSlmPa",
        "colab_type": "code",
        "colab": {
          "base_uri": "https://localhost:8080/",
          "height": 34
        },
        "outputId": "c160c7df-0d76-4a79-8b3a-3bc6f282e708"
      },
      "source": [
        "!ls -lha kaggle.json"
      ],
      "execution_count": 3,
      "outputs": [
        {
          "output_type": "stream",
          "text": [
            "-rw-r--r-- 1 root root 66 May  1 14:14 kaggle.json\n"
          ],
          "name": "stdout"
        }
      ]
    },
    {
      "cell_type": "code",
      "metadata": {
        "id": "grzG29qhltnq",
        "colab_type": "code",
        "colab": {}
      },
      "source": [
        "# Install the Kaggle API client\n",
        "!pip install -q kaggle"
      ],
      "execution_count": 0,
      "outputs": []
    },
    {
      "cell_type": "code",
      "metadata": {
        "id": "KrHP1MPBl64V",
        "colab_type": "code",
        "colab": {}
      },
      "source": [
        "# Create directory /.kaggle and add Kaggle API client to it\n",
        "!mkdir -p ~/.kaggle\n",
        "!cp kaggle.json ~/.kaggle/\n",
        "\n",
        "# This permissions change avoids a warning on Kaggle tool startup\n",
        "!chmod 600 ~/.kaggle/kaggle.json"
      ],
      "execution_count": 0,
      "outputs": []
    },
    {
      "cell_type": "code",
      "metadata": {
        "id": "rHiwvOCRmxCb",
        "colab_type": "code",
        "colab": {
          "base_uri": "https://localhost:8080/",
          "height": 330
        },
        "outputId": "3b41cbed-a512-44b0-e935-0793099083d1"
      },
      "source": [
        "# List available datasets.\n",
        "# https://github.com/Kaggle/kaggle-api\n",
        "!kaggle datasets list -s sarcasm"
      ],
      "execution_count": 9,
      "outputs": [
        {
          "output_type": "stream",
          "text": [
            "Warning: Looks like you're using an outdated API Version, please consider updating (server 1.5.6 / client 1.5.4)\n",
            "ref                                                  title                                          size  lastUpdated          downloadCount  \n",
            "---------------------------------------------------  --------------------------------------------  -----  -------------------  -------------  \n",
            "danofer/sarcasm                                      Sarcasm on Reddit                             216MB  2018-05-27 08:19:04           4222  \n",
            "rmisra/news-headlines-dataset-for-sarcasm-detection  News Headlines Dataset For Sarcasm Detection    3MB  2019-07-03 23:52:57          12873  \n",
            "rmisra/news-category-dataset                         News Category Dataset                          25MB  2018-12-02 04:09:45          12032  \n",
            "sherinclaudia/sarcastic-comments-on-reddit           Sarcastic Comments - REDDIT                   106MB  2019-01-30 14:41:53           1886  \n",
            "rmisra/clothing-fit-dataset-for-size-recommendation  Clothing Fit Dataset for Size Recommendation   40MB  2018-08-21 19:00:16           2798  \n",
            "rmisra/imdb-spoiler-dataset                          IMDB Spoiler Dataset                          331MB  2019-05-22 04:44:43            780  \n",
            "harriken/bias-media-cat                              Bias Media CAT                                 17MB  2017-10-27 22:46:25            339  \n",
            "akshit3050/sarcasm                                   sarcasm                                        26MB  2018-08-04 04:44:21            112  \n",
            "rmsharks4/sarcasmania-dataset                        Sarcasmania Dataset                             2MB  2019-05-28 09:07:23             58  \n",
            "shaunthesheep/sarcasmdata                            sarcasm-data                                    2MB  2020-03-17 09:30:12              2  \n",
            "pradeeptrical/sarcasm-dataset                        Sarcasm dataset                                81KB  2020-01-15 13:54:01             13  \n",
            "kndkarthi/sarcasm-tweets                             #sarcasm tweets                                 2MB  2019-01-28 06:56:45             88  \n",
            "akshit3050/ucscsarcasm2                              ucsc-sarcasm2                                   1MB  2019-06-12 13:14:08              7  \n",
            "shaunthesheep/sarcasm-data                           Sarcasm_Data                                    2MB  2020-03-17 09:13:35              1  \n",
            "williamscott701/memotion-dataset-7k                  Memotion Dataset 7k                           695MB  2020-02-27 13:06:01            263  \n"
          ],
          "name": "stdout"
        }
      ]
    },
    {
      "cell_type": "code",
      "metadata": {
        "id": "1CDm43Z1nCkG",
        "colab_type": "code",
        "colab": {}
      },
      "source": [
        "# Copy the stackoverflow data set locally.\\\n",
        "\n",
        "!kaggle datasets download -d rmisra/news-headlines-dataset-for-sarcasm-detection"
      ],
      "execution_count": 0,
      "outputs": []
    },
    {
      "cell_type": "code",
      "metadata": {
        "id": "In7HUx4Xo4t8",
        "colab_type": "code",
        "colab": {
          "base_uri": "https://localhost:8080/",
          "height": 69
        },
        "outputId": "b533dd24-21e1-4712-af33-84cd0778f55f"
      },
      "source": [
        "!kaggle datasets download -d rmisra/news-category-dataset"
      ],
      "execution_count": 16,
      "outputs": [
        {
          "output_type": "stream",
          "text": [
            "Downloading news-category-dataset.zip to /content\n",
            " 98% 25.0M/25.4M [00:00<00:00, 39.0MB/s]\n",
            "100% 25.4M/25.4M [00:00<00:00, 47.3MB/s]\n"
          ],
          "name": "stdout"
        }
      ]
    },
    {
      "cell_type": "code",
      "metadata": {
        "id": "0blZMHBXq6Fm",
        "colab_type": "code",
        "colab": {
          "base_uri": "https://localhost:8080/",
          "height": 69
        },
        "outputId": "e32c6ef7-e90b-4a9e-d3f0-7afd7e51360d"
      },
      "source": [
        "!kaggle datasets download -d jessicali9530/lfw-dataset  "
      ],
      "execution_count": 19,
      "outputs": [
        {
          "output_type": "stream",
          "text": [
            "Downloading lfw-dataset.zip to /content\n",
            " 93% 105M/112M [00:01<00:00, 80.9MB/s] \n",
            "100% 112M/112M [00:01<00:00, 105MB/s] \n"
          ],
          "name": "stdout"
        }
      ]
    }
  ]
}